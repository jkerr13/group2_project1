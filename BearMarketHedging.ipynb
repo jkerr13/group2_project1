{
 "cells": [
  {
   "cell_type": "code",
   "execution_count": 31,
   "id": "6c0c01a5-25eb-4a26-bbf0-be47823d9f59",
   "metadata": {},
   "outputs": [],
   "source": [
    "# Import the required libraries and dependencies\n",
    "import pandas as pd\n",
    "import hvplot.pandas\n",
    "from dotenv import load_dotenv\n",
    "from pathlib import Path\n",
    "import plotly.express as px\n",
    "import os\n",
    "from fredapi import Fred"
   ]
  },
  {
   "cell_type": "code",
   "execution_count": 34,
   "id": "55dd59bb-0311-4b64-adc1-f83494eae389",
   "metadata": {},
   "outputs": [
    {
     "data": {
      "text/plain": [
       "True"
      ]
     },
     "execution_count": 34,
     "metadata": {},
     "output_type": "execute_result"
    }
   ],
   "source": [
    "# Load .env enviroment variables\n",
    "load_dotenv(r\"example.env\")"
   ]
  },
  {
   "cell_type": "code",
   "execution_count": 35,
   "id": "f7b43c72-8591-4345-90e9-45aea785b099",
   "metadata": {},
   "outputs": [],
   "source": [
    "# API Key\n",
    "fred = Fred(api_key = os.getenv(\"API_KEY\"))"
   ]
  },
  {
   "cell_type": "code",
   "execution_count": 49,
   "id": "d819a6b2-4414-4781-a2eb-0b28a2ad1b86",
   "metadata": {},
   "outputs": [],
   "source": [
    "#Set to and from dates\n",
    "to_date = '01-01-2023'\n",
    "from_date = '01-01-2013'"
   ]
  },
  {
   "cell_type": "code",
   "execution_count": 58,
   "id": "eb9a3c7a-d30e-4bcd-b027-d0338efb45df",
   "metadata": {},
   "outputs": [],
   "source": [
    "# Setup descriptor ID's\n",
    "japan_10y = 'IRLTLT01JPM156N'\n",
    "usa_10y = 'DGS10'"
   ]
  },
  {
   "cell_type": "code",
   "execution_count": 59,
   "id": "f3d55cbb-2337-43e1-8f64-1ee941e51773",
   "metadata": {},
   "outputs": [
    {
     "name": "stdout",
     "output_type": "stream",
     "text": [
      "2013-01-01    0.775\n",
      "2013-02-01    0.669\n",
      "2013-03-01    0.492\n",
      "2013-04-01    0.589\n",
      "2013-05-01    0.879\n",
      "              ...  \n",
      "2022-08-01    0.220\n",
      "2022-09-01    0.240\n",
      "2022-10-01    0.245\n",
      "2022-11-01    0.250\n",
      "2022-12-01    0.410\n",
      "Length: 120, dtype: float64\n"
     ]
    }
   ],
   "source": [
    "# Import historical data Japan 10Y\n",
    "japan_10y_df = fred.get_series(japan_10y,observation_start = from_date, observation_end = to_date)\n",
    "japan_10y_columns = [\"Date\", \"Japan_10y\"]\n",
    "# japan_10y_df = pd.DataFrame(japan_10y, columns=japan_10y_columns)\n",
    "print(japan_10y_df)"
   ]
  },
  {
   "cell_type": "code",
   "execution_count": 60,
   "id": "2d662b0c-e368-4426-ba13-ee8f6115bea0",
   "metadata": {},
   "outputs": [
    {
     "name": "stdout",
     "output_type": "stream",
     "text": [
      "2013-01-01     NaN\n",
      "2013-01-02    1.86\n",
      "2013-01-03    1.92\n",
      "2013-01-04    1.93\n",
      "2013-01-07    1.92\n",
      "              ... \n",
      "2022-12-26     NaN\n",
      "2022-12-27    3.84\n",
      "2022-12-28    3.88\n",
      "2022-12-29    3.83\n",
      "2022-12-30    3.88\n",
      "Length: 2609, dtype: float64\n"
     ]
    }
   ],
   "source": [
    "# Import historical data U.S. Treasury Securities at 10-Year\n",
    "usa_10y_df = fred.get_series(usa_10y,observation_start = from_date, observation_end = to_date)\n",
    "usa_10y_columns = [\"Date\", \"USA_10y\"]\n",
    "# japan_10y_df = pd.DataFrame(USA_10y, columns=japan_10y_columns)\n",
    "print(usa_10y_df)"
   ]
  },
  {
   "cell_type": "code",
   "execution_count": null,
   "id": "6f80b0a9-a6ce-4c08-936f-766be8800ec6",
   "metadata": {},
   "outputs": [],
   "source": []
  }
 ],
 "metadata": {
  "kernelspec": {
   "display_name": "Python 3 (ipykernel)",
   "language": "python",
   "name": "python3"
  },
  "language_info": {
   "codemirror_mode": {
    "name": "ipython",
    "version": 3
   },
   "file_extension": ".py",
   "mimetype": "text/x-python",
   "name": "python",
   "nbconvert_exporter": "python",
   "pygments_lexer": "ipython3",
   "version": "3.7.15"
  }
 },
 "nbformat": 4,
 "nbformat_minor": 5
}
